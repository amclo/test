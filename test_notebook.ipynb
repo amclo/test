{
  "nbformat": 4,
  "nbformat_minor": 0,
  "metadata": {
    "colab": {
      "name": "test-notebook.ipynb",
      "provenance": [],
      "authorship_tag": "ABX9TyNKMc0Kqcydnd57MMb7vjxa",
      "include_colab_link": true
    },
    "kernelspec": {
      "name": "python3",
      "display_name": "Python 3"
    },
    "language_info": {
      "name": "python"
    }
  },
  "cells": [
    {
      "cell_type": "markdown",
      "metadata": {
        "id": "view-in-github",
        "colab_type": "text"
      },
      "source": [
        "<a href=\"https://colab.research.google.com/github/amclo/test/blob/main/test_notebook.ipynb\" target=\"_parent\"><img src=\"https://colab.research.google.com/assets/colab-badge.svg\" alt=\"Open In Colab\"/></a>"
      ]
    },
    {
      "cell_type": "code",
      "metadata": {
        "id": "c1MqimPClmtu"
      },
      "source": [
        "This is a test notebook to connect google colab with github.\n",
        "\n",
        "This is an additional note."
      ],
      "execution_count": null,
      "outputs": []
    }
  ]
}